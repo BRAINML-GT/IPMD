{
 "cells": [
  {
   "cell_type": "code",
   "execution_count": 21,
   "id": "8c3bd247",
   "metadata": {},
   "outputs": [
    {
     "name": "stdout",
     "output_type": "stream",
     "text": [
      "The autoreload extension is already loaded. To reload it, use:\n",
      "  %reload_ext autoreload\n"
     ]
    }
   ],
   "source": [
    "import os\n",
    "\n",
    "import gym\n",
    "import pandas as pd\n",
    "import numpy as np\n",
    "import torch as th\n",
    "import pickle\n",
    "from collections import defaultdict\n",
    "\n",
    "from utils.plotting import plot_costs\n",
    "from apmd_off.iapmd import IPMD\n",
    "from stable_baselines3.common.env_util import make_vec_env\n",
    "\n",
    "%load_ext autoreload\n",
    "%autoreload 2\n"
   ]
  },
  {
   "cell_type": "code",
   "execution_count": 3,
   "id": "df1cb589",
   "metadata": {},
   "outputs": [],
   "source": [
    "instances = ['Ant', 'HalfCheetah', 'Hopper', 'Humanoid', 'Walker2d']"
   ]
  },
  {
   "cell_type": "markdown",
   "id": "8d6a8f3a",
   "metadata": {},
   "source": [
    "### SPMD"
   ]
  },
  {
   "cell_type": "code",
   "execution_count": 60,
   "id": "5cb00c52",
   "metadata": {},
   "outputs": [
    {
     "name": "stdout",
     "output_type": "stream",
     "text": [
      "3000000\n",
      "5230.03 +- 117.82\n"
     ]
    }
   ],
   "source": [
    "# Ant\n",
    "\n",
    "folder = '/Users/patrick/Developer/Inverse-Policy-Mirror-Descent/logs/apmd/Ant-v4-2023-01-14 09:21:07'\n",
    "file = np.load(folder + '/evaluations.npz')\n",
    "rewards = file['results']\n",
    "mean = rewards.mean(axis=1)\n",
    "std = rewards.std(axis=1)\n",
    "best = mean.max()\n",
    "idx = np.argmax(mean)\n",
    "print(len(mean)*500)\n",
    "print(f'{mean[idx]:.2f} +- {std[idx]:.2f}')"
   ]
  },
  {
   "cell_type": "code",
   "execution_count": 61,
   "id": "b593e866",
   "metadata": {},
   "outputs": [
    {
     "name": "stdout",
     "output_type": "stream",
     "text": [
      "3000000\n",
      "13025.10 +- 37.74\n"
     ]
    }
   ],
   "source": [
    "# Halfcheetah\n",
    "\n",
    "folder = '/Users/patrick/Developer/Inverse-Policy-Mirror-Descent/logs/apmd/sac-style/HalfCheetah-v4-2022-11-28 23:19:30'\n",
    "file = np.load(folder + '/evaluations.npz')\n",
    "rewards = file['results']\n",
    "mean = rewards.mean(axis=1)\n",
    "std = rewards.std(axis=1)\n",
    "best = mean.max()\n",
    "idx = np.argmax(mean)\n",
    "print(len(mean)*500)\n",
    "print(f'{mean[idx]:.2f} +- {std[idx]:.2f}')"
   ]
  },
  {
   "cell_type": "code",
   "execution_count": 62,
   "id": "d141449e",
   "metadata": {},
   "outputs": [
    {
     "name": "stdout",
     "output_type": "stream",
     "text": [
      "3000000\n",
      "3618.92 +- 5.29\n"
     ]
    }
   ],
   "source": [
    "# Hopper\n",
    "\n",
    "folder = '/Users/patrick/Developer/Inverse-Policy-Mirror-Descent/logs/apmd/sac-style/Hopper-v4-2023-01-12 23:22:24'\n",
    "file = np.load(folder + '/evaluations.npz')\n",
    "rewards = file['results']\n",
    "mean = rewards.mean(axis=1)\n",
    "std = rewards.std(axis=1)\n",
    "best = mean.max()\n",
    "idx = np.argmax(mean)\n",
    "print(len(mean)*500)\n",
    "print(f'{mean[idx]:.2f} +- {std[idx]:.2f}')"
   ]
  },
  {
   "cell_type": "code",
   "execution_count": 65,
   "id": "94f06834",
   "metadata": {},
   "outputs": [
    {
     "name": "stdout",
     "output_type": "stream",
     "text": [
      "3000000\n",
      "10249.44 +- 7.31\n"
     ]
    }
   ],
   "source": [
    "# Humanoid\n",
    "\n",
    "folder = '/Users/patrick/Developer/Inverse-Policy-Mirror-Descent/logs/apmd/sac-style/Humanoid-v4-2022-12-01 10:22:13'\n",
    "file = np.load(folder + '/evaluations.npz')\n",
    "rewards = file['results'][:6000]\n",
    "mean = rewards.mean(axis=1)\n",
    "std = rewards.std(axis=1)\n",
    "best = mean.max()\n",
    "idx = np.argmax(mean)\n",
    "print(len(mean)*500)\n",
    "print(f'{mean[idx]:.2f} +- {std[idx]:.2f}')"
   ]
  },
  {
   "cell_type": "code",
   "execution_count": 66,
   "id": "9c647a93",
   "metadata": {},
   "outputs": [
    {
     "name": "stdout",
     "output_type": "stream",
     "text": [
      "3000000\n",
      "4453.65 +- 26.24\n"
     ]
    }
   ],
   "source": [
    "# Walker2d\n",
    "\n",
    "folder = '/Users/patrick/Developer/Inverse-Policy-Mirror-Descent/logs/apmd/sac-style/Walker2d-v4-2023-01-02 12:46:58'\n",
    "file = np.load(folder + '/evaluations.npz')\n",
    "rewards = file['results'][:6000]\n",
    "mean = rewards.mean(axis=1)\n",
    "std = rewards.std(axis=1)\n",
    "best = mean.max()\n",
    "idx = np.argmax(mean)\n",
    "print(len(mean)*500)\n",
    "print(f'{mean[idx]:.2f} +- {std[idx]:.2f}')"
   ]
  },
  {
   "cell_type": "code",
   "execution_count": null,
   "id": "46c3bed0",
   "metadata": {},
   "outputs": [],
   "source": []
  },
  {
   "cell_type": "code",
   "execution_count": null,
   "id": "ca86d70b",
   "metadata": {},
   "outputs": [],
   "source": []
  },
  {
   "cell_type": "markdown",
   "id": "d78e1509",
   "metadata": {},
   "source": [
    "### SPMD IRL"
   ]
  },
  {
   "cell_type": "code",
   "execution_count": 67,
   "id": "79d974ae",
   "metadata": {},
   "outputs": [
    {
     "name": "stdout",
     "output_type": "stream",
     "text": [
      "2000000\n",
      "4053.22 +- 110.13\n"
     ]
    }
   ],
   "source": [
    "# Ant\n",
    "\n",
    "folder = 'logs/iapmd/10traj/Ant-v4-2022-10-23 18:07:52'\n",
    "file = np.load(folder + '/evaluations.npz')\n",
    "rewards = file['results']\n",
    "mean = rewards.mean(axis=1)\n",
    "std = rewards.std(axis=1)\n",
    "best = mean.max()\n",
    "idx = np.argmax(mean)\n",
    "print(len(mean)*500)\n",
    "print(f'{mean[idx]:.2f} +- {std[idx]:.2f}')"
   ]
  },
  {
   "cell_type": "code",
   "execution_count": 68,
   "id": "8e57b6c3",
   "metadata": {},
   "outputs": [
    {
     "name": "stdout",
     "output_type": "stream",
     "text": [
      "2000000\n",
      "12633.68 +- 525.25\n"
     ]
    }
   ],
   "source": [
    "# HalfCheetah\n",
    "\n",
    "folder = 'logs/iapmd/10traj/HalfCheetah-v4-2022-10-24 08:42:41'\n",
    "file = np.load(folder + '/evaluations.npz')\n",
    "rewards = file['results']\n",
    "mean = rewards.mean(axis=1)\n",
    "std = rewards.std(axis=1)\n",
    "best = mean.max()\n",
    "idx = np.argmax(mean)\n",
    "print(len(mean)*500)\n",
    "print(f'{mean[idx]:.2f} +- {std[idx]:.2f}')"
   ]
  },
  {
   "cell_type": "code",
   "execution_count": 69,
   "id": "06ffe5b5",
   "metadata": {},
   "outputs": [
    {
     "name": "stdout",
     "output_type": "stream",
     "text": [
      "2000000\n",
      "3563.69 +- 15.57\n"
     ]
    }
   ],
   "source": [
    "# Hopper\n",
    "\n",
    "folder = 'logs/iapmd/10traj/Hopper-v4-2022-10-28 14:40:03'\n",
    "file = np.load(folder + '/evaluations.npz')\n",
    "rewards = file['results']\n",
    "mean = rewards.mean(axis=1)\n",
    "std = rewards.std(axis=1)\n",
    "best = mean.max()\n",
    "idx = np.argmax(mean)\n",
    "print(len(mean)*500)\n",
    "print(f'{mean[idx]:.2f} +- {std[idx]:.2f}')"
   ]
  },
  {
   "cell_type": "code",
   "execution_count": 73,
   "id": "3963fc9f",
   "metadata": {},
   "outputs": [
    {
     "name": "stdout",
     "output_type": "stream",
     "text": [
      "2000000\n",
      "7379.37 +- 46.35\n"
     ]
    }
   ],
   "source": [
    "# Humanoid\n",
    "\n",
    "folder = 'logs/iapmd/10traj/Humanoid-v4-2023-01-13 00:37:54'\n",
    "file = np.load(folder + '/evaluations.npz')\n",
    "rewards = file['results'][:4000]\n",
    "mean = rewards.mean(axis=1)\n",
    "std = rewards.std(axis=1)\n",
    "best = mean.max()\n",
    "idx = np.argmax(mean)\n",
    "print(len(mean)*500)\n",
    "print(f'{mean[idx]:.2f} +- {std[idx]:.2f}')"
   ]
  },
  {
   "cell_type": "code",
   "execution_count": 71,
   "id": "aa628172",
   "metadata": {},
   "outputs": [
    {
     "name": "stdout",
     "output_type": "stream",
     "text": [
      "2000000\n",
      "5423.29 +- 7.30\n"
     ]
    }
   ],
   "source": [
    "# Walker2d\n",
    "\n",
    "folder = 'logs/iapmd/10traj/Walker2d-v4-2022-10-25 00:04:15'\n",
    "file = np.load(folder + '/evaluations.npz')\n",
    "rewards = file['results']\n",
    "mean = rewards.mean(axis=1)\n",
    "std = rewards.std(axis=1)\n",
    "best = mean.max()\n",
    "idx = np.argmax(mean)\n",
    "print(len(mean)*500)\n",
    "print(f'{mean[idx]:.2f} +- {std[idx]:.2f}')"
   ]
  },
  {
   "cell_type": "markdown",
   "id": "d56f33c1",
   "metadata": {},
   "source": [
    "### Compare"
   ]
  },
  {
   "cell_type": "code",
   "execution_count": 36,
   "id": "e2ffef33",
   "metadata": {},
   "outputs": [],
   "source": [
    "rlbestmodel = {}\n",
    "rlbestmodel['Ant']='/Users/patrick/Developer/Inverse-Policy-Mirror-Descent/logs/apmd/Ant-v4-2023-01-14 09:21:07'\n",
    "rlbestmodel['HalfCheetah']='/Users/patrick/Developer/Inverse-Policy-Mirror-Descent/logs/apmd/sac-style/HalfCheetah-v4-2022-11-28 23:19:30'\n",
    "rlbestmodel['Hopper']='/Users/patrick/Developer/Inverse-Policy-Mirror-Descent/logs/apmd/sac-style/Hopper-v4-2023-01-12 23:22:24'\n",
    "rlbestmodel['Humanoid']='/Users/patrick/Developer/Inverse-Policy-Mirror-Descent/logs/apmd/sac-style/Humanoid-v4-2022-12-01 10:22:13'\n",
    "rlbestmodel['Walker2d']='/Users/patrick/Developer/Inverse-Policy-Mirror-Descent/logs/apmd/sac-style/Walker2d-v4-2023-01-02 12:46:58'"
   ]
  },
  {
   "cell_type": "code",
   "execution_count": 37,
   "id": "2abcc0e7",
   "metadata": {},
   "outputs": [],
   "source": [
    "irlbestmodel = {}\n",
    "irlbestmodel['Ant']='logs/iapmd/10traj/Ant-v4-2022-10-23 18:07:52'\n",
    "irlbestmodel['HalfCheetah']='logs/iapmd/10traj/HalfCheetah-v4-2022-10-24 08:42:41'\n",
    "irlbestmodel['Hopper']='logs/iapmd/10traj/Hopper-v4-2022-10-28 14:40:03'\n",
    "irlbestmodel['Humanoid']='logs/iapmd/10traj/Humanoid-v4-2023-01-13 00:37:54'\n",
    "irlbestmodel['Walker2d']='logs/iapmd/10traj/Walker2d-v4-2022-10-25 00:04:15'\n"
   ]
  },
  {
   "cell_type": "code",
   "execution_count": null,
   "id": "11479393",
   "metadata": {},
   "outputs": [],
   "source": []
  },
  {
   "cell_type": "markdown",
   "id": "f5bcff90",
   "metadata": {},
   "source": [
    "#### RL"
   ]
  },
  {
   "cell_type": "markdown",
   "id": "12a9224a",
   "metadata": {},
   "source": [
    "#### IRL"
   ]
  },
  {
   "cell_type": "markdown",
   "id": "13159df9",
   "metadata": {},
   "source": []
  },
  {
   "cell_type": "code",
   "execution_count": null,
   "id": "fb5c28d1",
   "metadata": {},
   "outputs": [],
   "source": []
  },
  {
   "cell_type": "code",
   "execution_count": 6,
   "id": "062f67e5",
   "metadata": {},
   "outputs": [
    {
     "name": "stdout",
     "output_type": "stream",
     "text": [
      "3000000\n",
      "5117.58 +- 56.53\n"
     ]
    }
   ],
   "source": [
    "# Ant\n",
    "\n",
    "folder = '/Users/patrick/Developer/Inverse-Policy-Mirror-Descent/logs/sac/0.99/Ant-v4-2023-01-04 04:19:02'\n",
    "file = np.load(folder + '/evaluations.npz')\n",
    "rewards = file['results']\n",
    "mean = rewards.mean(axis=1)\n",
    "std = rewards.std(axis=1)\n",
    "best = mean.max()\n",
    "idx = np.argmax(mean)\n",
    "print(len(mean)*500)\n",
    "print(f'{mean[idx]:.2f} +- {std[idx]:.2f}')"
   ]
  },
  {
   "cell_type": "code",
   "execution_count": 7,
   "id": "0fda159d",
   "metadata": {},
   "outputs": [
    {
     "name": "stdout",
     "output_type": "stream",
     "text": [
      "3000000\n",
      "13300.18 +- 45.85\n"
     ]
    }
   ],
   "source": [
    "# Halfcheetah\n",
    "\n",
    "folder = '/Users/patrick/Developer/Inverse-Policy-Mirror-Descent/logs/sac/0.99/HalfCheetah-v4-2023-01-03 16:20:21'\n",
    "file = np.load(folder + '/evaluations.npz')\n",
    "rewards = file['results']\n",
    "mean = rewards.mean(axis=1)\n",
    "std = rewards.std(axis=1)\n",
    "best = mean.max()\n",
    "idx = np.argmax(mean)\n",
    "print(len(mean)*500)\n",
    "print(f'{mean[idx]:.2f} +- {std[idx]:.2f}')"
   ]
  },
  {
   "cell_type": "code",
   "execution_count": 8,
   "id": "aa64c389",
   "metadata": {},
   "outputs": [
    {
     "name": "stdout",
     "output_type": "stream",
     "text": [
      "3000000\n",
      "3875.68 +- 78.72\n"
     ]
    }
   ],
   "source": [
    "# Hopper\n",
    "\n",
    "folder = '/Users/patrick/Developer/Inverse-Policy-Mirror-Descent/logs/sac/0.99/Hopper-v4-2023-01-03 10:42:37'\n",
    "file = np.load(folder + '/evaluations.npz')\n",
    "rewards = file['results']\n",
    "mean = rewards.mean(axis=1)\n",
    "std = rewards.std(axis=1)\n",
    "best = mean.max()\n",
    "idx = np.argmax(mean)\n",
    "print(len(mean)*500)\n",
    "print(f'{mean[idx]:.2f} +- {std[idx]:.2f}')"
   ]
  },
  {
   "cell_type": "code",
   "execution_count": 9,
   "id": "3863071e",
   "metadata": {},
   "outputs": [
    {
     "name": "stdout",
     "output_type": "stream",
     "text": [
      "3000000\n",
      "6922.67 +- 10.68\n"
     ]
    }
   ],
   "source": [
    "# Humanoid\n",
    "\n",
    "folder = '/Users/patrick/Developer/Inverse-Policy-Mirror-Descent/logs/sac/0.99/Humanoid-v4-2023-01-04 11:32:57'\n",
    "file = np.load(folder + '/evaluations.npz')\n",
    "rewards = file['results'][:6000]\n",
    "mean = rewards.mean(axis=1)\n",
    "std = rewards.std(axis=1)\n",
    "best = mean.max()\n",
    "idx = np.argmax(mean)\n",
    "print(len(mean)*500)\n",
    "print(f'{mean[idx]:.2f} +- {std[idx]:.2f}')"
   ]
  },
  {
   "cell_type": "code",
   "execution_count": 10,
   "id": "4fa79bae",
   "metadata": {},
   "outputs": [
    {
     "name": "stdout",
     "output_type": "stream",
     "text": [
      "3000000\n",
      "6115.45 +- 40.80\n"
     ]
    }
   ],
   "source": [
    "# Walker2d\n",
    "\n",
    "folder = '/Users/patrick/Developer/Inverse-Policy-Mirror-Descent/logs/sac/0.99/Walker2d-v4-2023-01-03 22:28:29'\n",
    "file = np.load(folder + '/evaluations.npz')\n",
    "rewards = file['results'][:6000]\n",
    "mean = rewards.mean(axis=1)\n",
    "std = rewards.std(axis=1)\n",
    "best = mean.max()\n",
    "idx = np.argmax(mean)\n",
    "print(len(mean)*500)\n",
    "print(f'{mean[idx]:.2f} +- {std[idx]:.2f}')"
   ]
  },
  {
   "cell_type": "markdown",
   "id": "0c296f6b",
   "metadata": {},
   "source": [
    "### Reward recovery for Pendulum and LunarLanderContinuous"
   ]
  },
  {
   "cell_type": "code",
   "execution_count": 97,
   "id": "26c2c068",
   "metadata": {},
   "outputs": [],
   "source": [
    "def totorch(a:np.array):\n",
    "    return th.from_numpy(np.array([a]))\n",
    "\n",
    "def get_reward(reward_func, state, action):\n",
    "    state = totorch(state)\n",
    "    action = totorch(action)\n",
    "    return reward_func(state, action)[0].detach()[0,0].numpy()"
   ]
  },
  {
   "cell_type": "markdown",
   "id": "95ac4a4b",
   "metadata": {},
   "source": [
    "#### Pendulum"
   ]
  },
  {
   "cell_type": "code",
   "execution_count": 123,
   "id": "8e91c6cd",
   "metadata": {},
   "outputs": [
    {
     "name": "stdout",
     "output_type": "stream",
     "text": [
      "tensor(-126.7933)\n"
     ]
    }
   ],
   "source": [
    "pen_env = make_vec_env('Pendulum-v1')\n",
    "pen_env.reset()\n",
    "pen_bestmodelpath = '/Users/patrick/Developer/Inverse-Policy-Mirror-Descent/logs/iapmd/reward_recovery/Pendulum-v1-2023-01-23 13:07:11/best_model.zip'\n",
    "pen_model = IPMD('MlpPolicy', pen_env, expert_replay_buffer_loc='/Users/patrick/Developer/Inverse-Policy-Mirror-Descent/reward_recovery/Pendulum-v1/best_model.pkl')\n",
    "pen_model.set_parameters(pen_bestmodelpath)\n",
    "pen_model_reward = pen_model.policy.reward_est"
   ]
  },
  {
   "cell_type": "code",
   "execution_count": 188,
   "id": "644c69bb",
   "metadata": {},
   "outputs": [
    {
     "name": "stdout",
     "output_type": "stream",
     "text": [
      "15.487541276961565\n",
      "-3359.2796535986563 42.9754421338439\n"
     ]
    }
   ],
   "source": [
    "# pen_env.observation_space.sample()\n",
    "pen_env.action_space.shape\n",
    "state = pen_env.reset()\n",
    "sample_size = 2000\n",
    "reward_record = []\n",
    "rewards = []\n",
    "predicted_rewards = []\n",
    "for i in range(sample_size):\n",
    "    action, _ = pen_model.predict(state)\n",
    "    predicted_reward = get_reward(pen_model_reward, state[0], action[0])\n",
    "    new_state, reward, done, _ = pen_env.step(action)\n",
    "    reward_record.append([state[0], action[0], float(reward[0]), float(predicted_reward)])\n",
    "    state = new_state\n",
    "    rewards.append(float(reward[0]))\n",
    "    predicted_rewards.append(float(predicted_reward))\n",
    "    if done:\n",
    "        state = pen_env.reset()\n",
    "#     print(reward, predicted_reward)\n",
    "rewards = np.array(rewards)\n",
    "predicted_rewards = np.array(predicted_rewards)\n",
    "spnorm = np.max(rewards - predicted_rewards) - np.min(rewards - predicted_rewards)\n",
    "print(spnorm)\n",
    "print(rewards.sum(), predicted_rewards.sum())"
   ]
  },
  {
   "cell_type": "code",
   "execution_count": 139,
   "id": "442b40d7",
   "metadata": {},
   "outputs": [],
   "source": [
    "centered_rewards = rewards - np.mean(rewards)\n",
    "centered_prediction = predicted_rewards - np.mean(predicted_rewards)"
   ]
  },
  {
   "cell_type": "code",
   "execution_count": 140,
   "id": "e0a19472",
   "metadata": {
    "collapsed": true
   },
   "outputs": [
    {
     "data": {
      "text/plain": [
       "array([-2.59332938e+00, -2.62558506e+00, -2.61331228e+00, -2.81361015e+00,\n",
       "       -3.15191005e+00, -3.55577604e+00, -4.01531790e+00, -4.74538691e+00,\n",
       "       -5.51334465e+00, -5.31418867e+00, -4.70994217e+00, -3.83329319e+00,\n",
       "       -3.36737291e+00, -2.60469640e+00, -2.15228448e+00, -1.59480513e+00,\n",
       "       -1.32916591e+00, -9.85309699e-01, -9.54297223e-01, -9.86733534e-01,\n",
       "       -1.19680492e+00, -1.35446768e+00, -2.16794691e+00, -2.65819911e+00,\n",
       "       -3.60999791e+00, -4.53123240e+00, -5.59271208e+00, -5.86348657e+00,\n",
       "       -4.89334313e+00, -4.13886229e+00, -3.35291273e+00, -2.56303016e+00,\n",
       "       -1.92440290e+00, -1.22642133e+00, -6.44427755e-01, -2.68084803e-01,\n",
       "       -8.82442679e-02, -1.17616990e-01, -3.73990872e-01, -8.74726751e-01,\n",
       "       -1.39570985e+00, -2.07207421e+00, -2.96756188e+00, -3.72530580e+00,\n",
       "       -4.66261993e+00, -5.42789964e+00, -5.90003628e+00, -5.02865089e+00,\n",
       "       -4.12747900e+00, -3.31230644e+00, -2.22310642e+00, -1.43298213e+00,\n",
       "       -9.50231859e-01, -6.63526037e-01, -3.49398979e-01, -2.45682218e-01,\n",
       "       -3.04866531e-01, -5.23549416e-01, -7.76627400e-01, -1.36818970e+00,\n",
       "       -2.17575643e+00, -2.81200714e+00, -3.93160055e+00, -4.96182320e+00,\n",
       "       -6.22273342e+00, -5.63813017e+00, -4.65882412e+00, -3.59000132e+00,\n",
       "       -2.78447912e+00, -2.02383367e+00, -1.45168651e+00, -9.11282905e-01,\n",
       "       -5.90903559e-01, -4.80421760e-01, -5.44345238e-01, -7.63347902e-01,\n",
       "       -1.15669260e+00, -1.88789509e+00, -2.67650551e+00, -3.48790173e+00,\n",
       "       -4.57345275e+00, -5.96264792e+00, -6.22131065e+00, -4.94524161e+00,\n",
       "       -4.02273414e+00, -2.65932993e+00, -1.78840301e+00, -6.50384949e-01,\n",
       "       -4.08896425e-01,  1.57066329e-03,  1.55043504e-01,  2.50804684e-01,\n",
       "        2.26897708e-01,  1.05510882e-01, -5.36393144e-01, -1.02257682e+00,\n",
       "       -2.08307497e+00, -3.13055579e+00, -4.51358406e+00, -6.08946011e+00,\n",
       "       -6.87353478e+00, -5.63502745e+00, -4.33032296e+00, -3.12496779e+00,\n",
       "       -1.70901940e+00, -5.46126911e-01,  3.22128317e-01,  1.15763458e+00,\n",
       "        1.67839613e+00,  1.88993999e+00,  1.76260706e+00,  1.41925450e+00,\n",
       "        9.38831649e-01, -2.32304969e-01, -1.52091835e+00, -3.02736686e+00,\n",
       "       -5.04678128e+00, -7.11826847e+00, -8.37283103e+00, -6.64558838e+00,\n",
       "       -5.00508682e+00, -3.40009461e+00, -1.90654377e+00, -6.18640461e-01,\n",
       "        8.04472945e-01,  1.81166642e+00,  2.74399258e+00,  3.21399872e+00,\n",
       "        3.58753343e+00,  3.56542616e+00,  4.06970997e+00,  4.20714216e+00,\n",
       "        4.28635482e+00,  4.34267519e+00,  4.37713440e+00,  4.44151230e+00,\n",
       "        4.52217381e+00,  4.60212178e+00,  4.40896540e+00,  4.74981405e+00,\n",
       "        4.45351161e+00,  4.48130610e+00,  4.50912520e+00,  4.72959257e+00,\n",
       "        4.81499720e+00,  4.83839775e+00,  4.48089990e+00,  4.44960514e+00,\n",
       "        4.45568129e+00,  4.56409879e+00,  4.69015534e+00,  4.57822193e+00,\n",
       "        4.65791505e+00,  4.76371194e+00,  4.51971177e+00,  4.50428629e+00,\n",
       "        4.50972521e+00,  4.56102488e+00,  4.71170372e+00,  4.55477345e+00,\n",
       "        4.65664770e+00,  4.52781351e+00,  4.53602140e+00,  4.56089695e+00,\n",
       "        4.54073526e+00,  4.54302192e+00,  4.18924374e+00,  4.57499678e+00,\n",
       "        4.70430866e+00,  4.56019734e+00,  4.53730582e+00,  4.53553630e+00,\n",
       "        4.53017210e+00,  4.57140773e+00,  4.44042993e+00,  4.38717435e+00,\n",
       "        4.54509394e+00,  4.70592030e+00,  4.55743662e+00,  4.55200632e+00,\n",
       "        4.52596779e+00,  4.53009312e+00,  4.38624807e+00,  4.53348932e+00,\n",
       "        4.52350662e+00,  4.53548392e+00,  4.52187243e+00,  4.55798711e+00,\n",
       "        4.53799615e+00,  4.64332183e+00,  4.54642640e+00,  4.56057844e+00,\n",
       "        4.52860283e+00,  4.53294453e+00,  4.34939305e+00,  4.52626093e+00,\n",
       "        4.54072600e+00,  4.53642146e+00,  4.52806492e+00,  4.55501007e+00,\n",
       "       -5.18021881e+00, -5.29141193e+00, -5.23498625e+00, -4.96647260e+00,\n",
       "       -4.80440044e+00, -4.65876716e+00, -4.36447734e+00, -4.17212205e+00,\n",
       "       -3.92915926e+00, -3.65628491e+00, -3.39976386e+00, -3.19323591e+00,\n",
       "       -3.00794638e+00, -2.82929582e+00, -2.69208161e+00, -2.57395507e+00,\n",
       "       -2.50095791e+00, -2.47066049e+00, -2.51296742e+00, -2.47656194e+00,\n",
       "       -2.53520004e+00, -2.82165975e+00, -2.91996465e+00, -3.11122543e+00,\n",
       "       -3.36822472e+00, -3.69001044e+00, -3.97490696e+00, -4.35253919e+00,\n",
       "       -4.80136890e+00, -5.42220581e+00, -5.22043837e+00, -4.63892666e+00,\n",
       "       -4.18719632e+00, -3.83495892e+00, -3.59896726e+00, -3.34831158e+00,\n",
       "       -3.21377514e+00, -3.22429333e+00, -3.39570449e+00, -3.43319596e+00,\n",
       "       -3.69551934e+00, -4.04675008e+00, -4.37205062e+00, -4.67137484e+00,\n",
       "       -5.01001728e+00, -5.27391518e+00, -5.16495112e+00, -4.84634853e+00,\n",
       "       -4.58561412e+00, -4.27074660e+00, -3.78557167e+00, -3.40167994e+00,\n",
       "       -3.06659902e+00, -2.69815765e+00, -2.44434486e+00, -2.21560565e+00,\n",
       "       -2.03000815e+00, -1.95676891e+00, -1.88711739e+00, -2.02058948e+00,\n",
       "       -2.11470799e+00, -2.21190495e+00, -2.19423188e+00, -2.50108863e+00,\n",
       "       -2.96515558e+00, -3.30935476e+00, -3.73212937e+00, -4.14188627e+00,\n",
       "       -4.53426919e+00, -4.92497064e+00, -5.28734578e+00, -5.25069777e+00,\n",
       "       -4.94557477e+00, -4.60358537e+00, -4.33744068e+00, -4.04615069e+00,\n",
       "       -3.89765672e+00, -3.70410905e+00, -3.52724619e+00, -3.44438288e+00,\n",
       "       -3.38943903e+00, -3.33019761e+00, -3.29395119e+00, -3.22269241e+00,\n",
       "       -3.16099066e+00, -3.24448136e+00, -3.35251985e+00, -3.60910473e+00,\n",
       "       -3.93299192e+00, -4.40883309e+00, -4.96099036e+00, -5.51073168e+00,\n",
       "       -5.09326000e+00, -4.58833484e+00, -4.25594632e+00, -3.73786882e+00,\n",
       "       -3.34524543e+00, -3.04371867e+00, -2.71757401e+00, -2.43411679e+00,\n",
       "       -2.27735538e+00, -2.13975085e+00, -2.05055050e+00, -2.02737395e+00,\n",
       "       -2.02813203e+00, -2.21999724e+00, -2.15629960e+00, -2.40341679e+00,\n",
       "       -2.74746082e+00, -3.13599292e+00, -3.48409883e+00, -3.98428069e+00,\n",
       "       -4.93696240e+00, -5.71709416e+00, -5.32950751e+00, -4.29666276e+00,\n",
       "       -3.79198197e+00, -3.04467134e+00, -2.34438674e+00, -2.05256251e+00,\n",
       "       -1.73947958e+00, -1.49465201e+00, -1.47357337e+00, -1.62044389e+00,\n",
       "       -1.77338307e+00, -2.09860520e+00, -2.58719874e+00, -2.90803222e+00,\n",
       "       -3.33890460e+00, -3.82537178e+00, -4.26908616e+00, -4.68605606e+00,\n",
       "       -5.21396751e+00, -5.36504332e+00, -4.82960896e+00, -4.42934675e+00,\n",
       "       -4.03273604e+00, -3.61677525e+00, -3.32673100e+00, -2.96461139e+00,\n",
       "       -2.71165878e+00, -2.44142044e+00, -2.26051984e+00, -2.08864541e+00,\n",
       "       -2.07455165e+00, -2.07391209e+00, -2.21691222e+00, -2.31584413e+00,\n",
       "       -2.38394380e+00, -2.53408731e+00, -2.76996843e+00, -2.93503270e+00,\n",
       "       -3.21525044e+00, -3.51590292e+00, -3.67643479e+00, -4.08260871e+00,\n",
       "       -4.53386483e+00, -5.02076475e+00, -5.53122468e+00, -4.93445192e+00,\n",
       "       -4.55779723e+00, -4.10503880e+00, -3.65307022e+00, -3.56358091e+00,\n",
       "       -3.34929232e+00, -3.06199024e+00, -3.00256861e+00, -3.00340543e+00,\n",
       "       -3.27061953e+00, -3.18037085e+00, -3.40413389e+00, -3.66209579e+00,\n",
       "       -3.91582606e+00, -4.24671040e+00, -4.42976955e+00, -4.75147418e+00,\n",
       "       -5.07544247e+00, -5.40585262e+00, -5.05614511e+00, -4.56138540e+00,\n",
       "       -4.21158288e+00, -3.80823891e+00, -3.18295793e+00, -2.88740563e+00,\n",
       "       -2.50142894e+00, -2.13934697e+00, -1.71931843e+00, -1.48832701e+00,\n",
       "       -1.33382801e+00, -1.27228648e+00, -1.29702879e+00, -1.35074452e+00,\n",
       "       -1.73523680e+00, -2.25993411e+00, -2.81703524e+00, -3.65166483e+00,\n",
       "       -4.51522545e+00, -5.45790050e+00, -5.87321410e+00, -4.99682734e+00,\n",
       "        1.13800146e+00,  1.01337387e+00,  8.64490053e-01,  4.15563396e-01,\n",
       "       -4.47618582e-01, -1.51366709e+00, -2.98177854e+00, -4.63620762e+00,\n",
       "       -6.69247685e+00, -7.88235239e+00, -6.41351453e+00, -4.57035837e+00,\n",
       "       -3.12598256e+00, -1.83068804e+00, -3.02673974e-01,  8.20379636e-01,\n",
       "        1.70210837e+00,  2.41923146e+00,  2.61876871e+00,  3.06101125e+00,\n",
       "        3.14928760e+00,  3.14475142e+00,  3.00622339e+00,  2.37733617e+00,\n",
       "        1.35427263e+00, -1.99929730e-03, -1.90752391e+00, -4.10632596e+00,\n",
       "       -6.66403137e+00, -9.56287996e+00, -9.58351629e+00, -7.58237641e+00,\n",
       "       -5.61714523e+00, -3.72988991e+00, -1.70608000e+00, -1.93823555e-01,\n",
       "        1.10440554e+00,  2.10925718e+00,  2.94750012e+00,  3.58100545e+00,\n",
       "        4.05580758e+00,  4.23922542e+00,  4.13457242e+00,  4.50375480e+00,\n",
       "        4.53946831e+00,  4.51995304e+00,  4.62531227e+00,  4.58545119e+00,\n",
       "        4.63942964e+00,  4.51540215e+00,  4.13187276e+00,  4.52743043e+00,\n",
       "        4.29948169e+00,  4.55574226e+00,  4.56329721e+00,  4.58761971e+00,\n",
       "        4.54612466e+00,  4.33814564e+00,  4.48957863e+00,  4.61113726e+00,\n",
       "        4.51696393e+00,  4.53472494e+00,  4.58722458e+00,  4.43512812e+00,\n",
       "        4.54393842e+00,  4.54283921e+00,  4.34716502e+00,  4.54835517e+00,\n",
       "        4.53399219e+00,  4.64707354e+00,  4.53870187e+00,  4.52506050e+00,\n",
       "        4.53870269e+00,  4.52389367e+00,  4.52379440e+00,  4.57174775e+00,\n",
       "        4.54601917e+00,  4.56404395e+00,  4.53176248e+00,  4.34536196e+00,\n",
       "        4.59487287e+00,  4.31695211e+00,  4.32588897e+00,  4.67002240e+00,\n",
       "        3.62560982e+00,  4.29201810e+00,  4.53263216e+00,  4.52119232e+00,\n",
       "        4.58905401e+00,  4.34675314e+00,  4.40614094e+00,  4.52700561e+00,\n",
       "        4.65510362e+00,  4.48976951e+00,  4.51178826e+00,  4.23211716e+00,\n",
       "        4.51984119e+00,  4.53275561e+00,  4.64542560e+00,  4.53249037e+00,\n",
       "        4.67306362e+00,  4.11286177e+00,  4.56204130e+00,  4.06594051e+00,\n",
       "        4.67825124e+00,  4.53642133e+00,  4.65448952e+00,  4.51919083e+00,\n",
       "        4.53487345e+00,  4.53535521e+00,  4.52446664e+00,  4.53676549e+00,\n",
       "        4.32516375e+00,  4.54362311e+00,  4.62579565e+00,  4.55325995e+00,\n",
       "        4.34836424e+00,  4.31253841e+00,  4.49635212e+00,  4.52663602e+00,\n",
       "        4.51160350e+00,  4.53211253e+00,  4.56040784e+00,  4.69398266e+00,\n",
       "        4.13416314e+00,  4.51974642e+00,  4.53835852e+00,  4.53281089e+00,\n",
       "        4.66973859e+00,  4.53575678e+00,  4.56424666e+00,  4.55462279e+00,\n",
       "        4.52843297e+00,  4.53111438e+00,  4.50694655e+00,  4.68385205e+00,\n",
       "        4.54353021e+00,  4.69132885e+00,  4.52621802e+00,  4.23853321e+00,\n",
       "        4.40873140e+00,  4.42696254e+00,  4.27842320e+00,  4.54284219e+00,\n",
       "        4.52961221e+00,  4.55054225e+00,  4.42275452e+00,  4.52904644e+00,\n",
       "        4.52193250e+00,  4.54576843e+00,  4.53753972e+00,  4.57308404e+00,\n",
       "        4.24639142e+00,  4.54341553e+00,  4.53119349e+00,  4.52767282e+00,\n",
       "        4.54620873e+00,  4.63983417e+00,  4.50439813e+00,  4.57542207e+00,\n",
       "        4.53018700e+00,  4.54848407e+00,  4.56297179e+00,  4.53630801e+00,\n",
       "        4.46267694e+00,  4.53017060e+00,  4.62394413e+00,  4.52173217e+00,\n",
       "        4.53957343e+00,  4.61220487e+00,  4.54171076e+00,  4.55348175e+00,\n",
       "        4.54151312e+00,  4.52862290e+00,  4.67549470e+00,  4.52975424e+00,\n",
       "        4.53783568e+00,  4.68685539e+00,  4.52093084e+00,  4.14056697e+00,\n",
       "        4.55354379e+00,  4.53846879e+00,  4.52077956e+00,  4.64302737e+00,\n",
       "        4.05176624e+00,  4.60982728e+00,  4.64534502e+00,  4.53538329e+00,\n",
       "        4.53678190e+00,  4.50445565e+00,  4.51720718e+00,  4.57427420e+00,\n",
       "        4.53594880e+00,  4.55525847e+00,  4.34334581e+00,  4.55910543e+00,\n",
       "        4.48901428e+00,  4.54677725e+00,  4.34559411e+00,  4.52536139e+00,\n",
       "        2.06476607e+00,  2.06114813e+00,  1.79570242e+00,  1.06173112e+00,\n",
       "        3.65753910e-01, -1.11723349e+00, -2.71903399e+00, -4.60225169e+00,\n",
       "       -6.44250808e+00, -8.83336280e+00, -7.32071237e+00, -5.66252128e+00,\n",
       "       -3.56837504e+00, -2.13621633e+00, -8.47184160e-01,  3.98390724e-01,\n",
       "        1.36052783e+00,  2.11298456e+00,  2.68172850e+00,  3.10916363e+00,\n",
       "        3.54681703e+00,  3.81625172e+00,  3.97056737e+00,  4.08796217e+00,\n",
       "        4.28050635e+00,  4.33223640e+00,  4.43499515e+00,  4.57595363e+00,\n",
       "        4.53636639e+00,  4.62409374e+00,  4.58401716e+00,  4.52045513e+00,\n",
       "        4.64212952e+00,  4.58684801e+00,  4.11862035e+00,  4.53787196e+00,\n",
       "        4.54193075e+00,  4.20994164e+00,  4.66770728e+00,  4.40783911e+00,\n",
       "        4.56781083e+00,  4.28415483e+00,  4.43333980e+00,  4.53126511e+00,\n",
       "        4.41498889e+00,  4.47086388e+00,  4.51889564e+00,  4.52447789e+00,\n",
       "        4.53735986e+00,  4.56020713e+00,  4.29299509e+00,  4.53499514e+00,\n",
       "        4.47456353e+00,  4.53500079e+00,  4.66815104e+00,  4.52963955e+00,\n",
       "        4.51696358e+00,  4.51021362e+00,  4.52356436e+00,  4.51487597e+00,\n",
       "        4.53498017e+00,  4.54424675e+00,  4.60085150e+00,  4.49469056e+00,\n",
       "        4.47521477e+00,  4.52859979e+00,  4.52022108e+00,  4.52252090e+00,\n",
       "        4.53284527e+00,  4.54305394e+00,  4.57868633e+00,  4.44537387e+00,\n",
       "        4.53463227e+00,  4.48480309e+00,  4.53915253e+00,  4.53967902e+00,\n",
       "        4.53788196e+00,  4.53835818e+00,  4.67471162e+00,  3.92522789e+00,\n",
       "        4.65275327e+00,  4.52482010e+00,  4.50685418e+00,  4.13299947e+00,\n",
       "        4.52722761e+00,  4.61686539e+00,  4.51610990e+00,  4.09310990e+00,\n",
       "        4.50817995e+00,  4.53298703e+00,  4.54326393e+00,  4.55211386e+00,\n",
       "        4.53278821e+00,  4.60844764e+00,  4.53512620e+00,  4.52973229e+00,\n",
       "        4.47124844e+00,  4.47038840e+00,  4.62660717e+00,  4.52149486e+00,\n",
       "        4.55639650e+00,  4.51370838e+00,  4.55251526e+00,  4.32726962e+00,\n",
       "        4.53397058e+00,  4.54502571e+00,  4.56535896e+00,  4.51851409e+00,\n",
       "        4.53712087e+00,  4.51390648e+00,  4.54038006e+00,  4.52890571e+00,\n",
       "        4.53019995e+00,  4.52545112e+00,  4.57843533e+00,  4.54994155e+00,\n",
       "        4.34630270e+00,  4.51990901e+00,  4.61857854e+00,  4.68981788e+00,\n",
       "        4.50077975e+00,  4.39788025e+00,  4.56189582e+00,  4.53094298e+00,\n",
       "        4.54912430e+00,  4.52907175e+00,  4.57035023e+00,  4.53901178e+00,\n",
       "        4.51558791e+00,  4.52781049e+00,  4.52796701e+00,  4.51393735e+00,\n",
       "        4.52379344e+00,  4.56872102e+00,  4.59561714e+00,  4.55608273e+00,\n",
       "        4.53605634e+00,  4.54635787e+00,  4.53029978e+00,  4.59566788e+00,\n",
       "        4.51540975e+00,  4.38906300e+00,  4.57309661e+00,  4.53642191e+00,\n",
       "        4.53554289e+00,  4.61558055e+00,  4.53964521e+00,  4.52407270e+00,\n",
       "        4.52815786e+00,  4.19846363e+00,  4.68676323e+00,  4.54249504e+00,\n",
       "        4.55561765e+00,  4.55699747e+00,  4.59587213e+00,  4.60956911e+00,\n",
       "        4.71535413e+00,  4.50443045e+00,  4.53429233e+00,  4.56725322e+00,\n",
       "        3.88613858e+00,  4.29931869e+00,  4.07597811e+00,  4.56454127e+00,\n",
       "        4.54137933e+00,  4.53964011e+00,  4.67205937e+00,  4.51212950e+00,\n",
       "        3.94733242e+00,  4.53131768e+00,  4.52707136e+00,  4.51691815e+00,\n",
       "        4.53737341e+00,  4.55436793e+00,  4.53481684e+00,  4.54435544e+00,\n",
       "        4.53114934e+00,  4.53268967e+00,  4.60194331e+00,  4.54060506e+00,\n",
       "        4.54523972e+00,  4.52481136e+00,  4.52244537e+00,  4.51906488e+00,\n",
       "        4.54418394e+00,  4.52744198e+00,  4.45823932e+00,  4.53930225e+00,\n",
       "        4.53127556e+00,  4.54117861e+00,  4.50690796e+00,  4.42515168e+00,\n",
       "        4.62761408e+00,  4.52992959e+00,  4.69190592e+00,  3.90619848e+00,\n",
       "        4.57658914e+00,  4.53847612e+00,  4.62589113e+00,  4.51848515e+00,\n",
       "       -3.01693348e+00, -2.92824958e+00, -2.97113583e+00, -3.11463962e+00,\n",
       "       -3.37988893e+00, -3.69119118e+00, -4.00526819e+00, -4.34381706e+00,\n",
       "       -4.55563919e+00, -4.81633321e+00, -5.05730141e+00, -5.32753957e+00,\n",
       "       -5.09705851e+00, -4.77778224e+00, -4.66910295e+00, -4.49334297e+00,\n",
       "       -4.51113648e+00, -4.62927476e+00, -4.45611888e+00, -4.34066314e+00,\n",
       "       -4.27278105e+00, -4.24131397e+00, -4.33286620e+00, -4.31498797e+00,\n",
       "       -4.13594122e+00, -4.06835868e+00, -4.01883719e+00, -3.87582728e+00,\n",
       "       -3.73534199e+00, -3.50292001e+00, -3.37064803e+00, -3.26715171e+00,\n",
       "       -3.20207156e+00, -3.14921919e+00, -3.08669115e+00, -3.30960570e+00,\n",
       "       -3.32586039e+00, -3.45183212e+00, -3.46338195e+00, -3.52959440e+00,\n",
       "       -3.56250856e+00, -3.76575828e+00, -3.87312511e+00, -3.90769480e+00,\n",
       "       -4.04133148e+00, -4.13950900e+00, -4.14567153e+00, -4.19975684e+00,\n",
       "       -4.36752785e+00, -4.40624268e+00, -4.50783605e+00, -4.52594177e+00,\n",
       "       -4.50430168e+00, -4.60572652e+00, -4.55561534e+00, -4.68013252e+00,\n",
       "       -4.61428187e+00, -4.55121351e+00, -4.52156351e+00, -4.51267097e+00,\n",
       "       -4.52979279e+00, -4.62444843e+00, -4.61286951e+00, -4.55376602e+00,\n",
       "       -4.63888560e+00, -4.48720238e+00, -4.54671566e+00, -4.29868627e+00,\n",
       "       -4.43984894e+00, -4.32116345e+00, -4.17593000e+00, -4.08778460e+00,\n",
       "       -4.03177051e+00, -3.94402809e+00, -3.99380527e+00, -3.98224310e+00,\n",
       "       -3.83463184e+00, -3.90192304e+00, -3.85337327e+00, -3.79188436e+00,\n",
       "       -3.66088302e+00, -3.75261865e+00, -3.73336912e+00, -3.72572310e+00,\n",
       "       -3.66619108e+00, -3.64235697e+00, -3.52435015e+00, -3.71622051e+00,\n",
       "       -3.76336313e+00, -3.87267203e+00, -3.87374187e+00, -3.87847258e+00,\n",
       "       -3.82626031e+00, -3.92143438e+00, -3.94458170e+00, -3.83434389e+00,\n",
       "       -3.84857512e+00, -3.93667237e+00, -3.91840021e+00, -3.85720990e+00,\n",
       "       -3.88161532e+00, -4.03065259e+00, -4.10532130e+00, -4.08107457e+00,\n",
       "       -4.16920642e+00, -4.27775411e+00, -4.38942830e+00, -4.64845649e+00,\n",
       "       -4.72523735e+00, -4.85487966e+00, -4.78455893e+00, -4.75585193e+00,\n",
       "       -4.94812951e+00, -4.87348203e+00, -4.97141675e+00, -4.82246427e+00,\n",
       "       -4.71976916e+00, -4.73596660e+00, -4.49296089e+00, -4.34772656e+00,\n",
       "       -4.23152357e+00, -4.02965988e+00, -3.79031012e+00, -3.55296628e+00,\n",
       "       -3.33309975e+00, -3.16126866e+00, -3.01237057e+00, -2.86801309e+00,\n",
       "       -2.73916579e+00, -2.62416599e+00, -2.52599482e+00, -2.44758777e+00,\n",
       "       -2.39766667e+00, -2.34576774e+00, -2.44258336e+00, -2.56576131e+00,\n",
       "       -2.52241803e+00, -2.76824499e+00, -2.95150597e+00, -3.17582519e+00,\n",
       "       -3.59644894e+00, -3.96456478e+00, -4.47663478e+00, -4.88259915e+00,\n",
       "       -5.22984264e+00, -5.24638591e+00, -4.97301249e+00, -4.54995636e+00,\n",
       "       -4.13557185e+00, -3.76454780e+00, -3.63790152e+00, -3.33800254e+00,\n",
       "       -3.15535716e+00, -2.85676486e+00, -2.68946920e+00, -2.61227606e+00,\n",
       "       -2.79785998e+00, -2.66723091e+00, -2.82520668e+00, -3.03096686e+00,\n",
       "       -3.28400544e+00, -3.60218320e+00, -4.00173894e+00, -4.48275412e+00,\n",
       "       -5.01087359e+00, -5.59210650e+00, -4.93775313e+00, -4.52243880e+00,\n",
       "       -4.09338584e+00, -3.73860521e+00, -3.49102516e+00, -3.13435099e+00,\n",
       "       -2.81659965e+00, -2.61813209e+00, -2.41764519e+00, -2.30414406e+00,\n",
       "       -2.24383623e+00, -2.32147554e+00, -2.50031839e+00, -2.75274424e+00,\n",
       "       -2.88466910e+00, -3.31122659e+00, -3.63691656e+00, -4.12891681e+00,\n",
       "       -4.57112328e+00, -5.01269440e+00, -5.46252001e+00, -5.02567551e+00,\n",
       "       -4.51261409e+00, -4.15686683e+00, -3.58326588e+00, -3.32844136e+00,\n",
       "       -2.97989366e+00, -2.85757194e+00, -2.71528397e+00, -2.63208179e+00,\n",
       "       -2.54034821e+00, -2.48247466e+00, -2.52368868e+00, -2.53556679e+00])"
      ]
     },
     "execution_count": 140,
     "metadata": {},
     "output_type": "execute_result"
    }
   ],
   "source": [
    "centered_rewards - centered_prediction"
   ]
  },
  {
   "cell_type": "code",
   "execution_count": 143,
   "id": "311ee2da",
   "metadata": {},
   "outputs": [
    {
     "name": "stdout",
     "output_type": "stream",
     "text": [
      "-2518.678815489271 16.022188492119312\n"
     ]
    }
   ],
   "source": [
    "print(rewards.sum(), predicted_rewards.sum())"
   ]
  },
  {
   "cell_type": "code",
   "execution_count": 190,
   "id": "b39d9485",
   "metadata": {},
   "outputs": [],
   "source": [
    "with open('reward_record', 'wb') as fp:\n",
    "    pickle.dump(reward_record, fp, protocol=4)"
   ]
  },
  {
   "cell_type": "code",
   "execution_count": null,
   "id": "4a979f63",
   "metadata": {},
   "outputs": [],
   "source": []
  },
  {
   "cell_type": "code",
   "execution_count": 191,
   "id": "420600d3",
   "metadata": {},
   "outputs": [
    {
     "name": "stdout",
     "output_type": "stream",
     "text": [
      "[array([-0.38244265,  0.9239792 , -0.8220529 ], dtype=float32), array([-0.08442295], dtype=float32), -3.921875, -0.007520027458667755]\n"
     ]
    }
   ],
   "source": [
    "print(reward_record[0])"
   ]
  },
  {
   "cell_type": "markdown",
   "id": "ddb28f2d",
   "metadata": {},
   "source": [
    "#### LunarLander"
   ]
  },
  {
   "cell_type": "code",
   "execution_count": 200,
   "id": "95dc4eb3",
   "metadata": {},
   "outputs": [
    {
     "name": "stdout",
     "output_type": "stream",
     "text": [
      "tensor(159.0948)\n"
     ]
    }
   ],
   "source": [
    "luna_env = make_vec_env('LunarLanderContinuous-v2')\n",
    "luna_env.reset()\n",
    "luna_bestmodelpath = '/Users/patrick/Developer/Inverse-Policy-Mirror-Descent/logs/iapmd/reward_recovery/LunarLanderContinuous-v2-2023-01-25 10:08:07/best_model.zip'\n",
    "luna_model = IPMD('MlpPolicy', \n",
    "                  luna_env, \n",
    "                  traj_size=275,\n",
    "                  expert_replay_buffer_loc='/Users/patrick/Developer/Inverse-Policy-Mirror-Descent/reward_recovery/LunarLanderContinuous-v2/best_model.pkl')\n",
    "luna_model.set_parameters(luna_bestmodelpath)\n",
    "luna_model_reward = luna_model.policy.reward_est\n"
   ]
  },
  {
   "cell_type": "code",
   "execution_count": 204,
   "id": "ae1ac9d5",
   "metadata": {},
   "outputs": [
    {
     "name": "stdout",
     "output_type": "stream",
     "text": [
      "109.77014741115272\n",
      "-79.86249126493931 -0.06179475039243698\n",
      "108.1604351811111\n",
      "-150.57487260107882 -0.06298962607979774\n",
      "112.75528492312878\n",
      "-60.43973008566536 -0.05665504187345505\n",
      "174.06136233359575\n",
      "3.472524419426918 -0.044428170658648014\n",
      "106.36302272975445\n",
      "-226.54292697273195 -0.040388716384768486\n",
      "102.40382558852434\n",
      "-448.99108516052365 -0.0508731622248888\n",
      "114.680579373613\n",
      "-95.77025914564729 0.022300509735941887\n",
      "119.0490738209337\n",
      "-107.98444949835539 -0.0589103065431118\n",
      "106.02006690949202\n",
      "-245.39729543967405 -0.03366057947278023\n",
      "189.94455938972533\n",
      "-111.55379484733567 -0.08880027011036873\n"
     ]
    }
   ],
   "source": [
    "# pen_env.observation_space.sample()\n",
    "luna_env.action_space.shape\n",
    "sample_size = 10000\n",
    "reward_records = []\n",
    "for j in range(10):\n",
    "    state = luna_env.reset()\n",
    "    reward_record = []\n",
    "    rewards = []\n",
    "    predicted_rewards = []\n",
    "    for i in range(sample_size):\n",
    "        action, _ = luna_model.predict(state)\n",
    "        predicted_reward = get_reward(luna_model_reward, state[0], action[0])\n",
    "        new_state, reward, done, _ = luna_env.step(action)\n",
    "        reward_record.append([state[0], action[0], float(reward[0]), float(predicted_reward)])\n",
    "        state = new_state\n",
    "        rewards.append(float(reward[0]))\n",
    "        predicted_rewards.append(float(predicted_reward))\n",
    "        if done:\n",
    "            state = pen_env.reset()\n",
    "            break\n",
    "    #     print(reward, predicted_reward)\n",
    "    rewards = np.array(rewards)\n",
    "    predicted_rewards = np.array(predicted_rewards)\n",
    "    spnorm = np.max(rewards - predicted_rewards) - np.min(rewards - predicted_rewards)\n",
    "    print(spnorm)\n",
    "    print(rewards.sum(), predicted_rewards.sum())\n",
    "    reward_records.append(reward_record)\n",
    "    "
   ]
  },
  {
   "cell_type": "code",
   "execution_count": 206,
   "id": "c09db444",
   "metadata": {},
   "outputs": [],
   "source": [
    "with open('luna_reward_records', 'wb') as fp:\n",
    "    pickle.dump(reward_records, fp, protocol=4)"
   ]
  },
  {
   "cell_type": "code",
   "execution_count": null,
   "id": "594c80ab",
   "metadata": {},
   "outputs": [],
   "source": []
  }
 ],
 "metadata": {
  "kernelspec": {
   "display_name": "irl",
   "language": "python",
   "name": "python3"
  },
  "language_info": {
   "codemirror_mode": {
    "name": "ipython",
    "version": 3
   },
   "file_extension": ".py",
   "mimetype": "text/x-python",
   "name": "python",
   "nbconvert_exporter": "python",
   "pygments_lexer": "ipython3",
   "version": "3.10.8"
  },
  "vscode": {
   "interpreter": {
    "hash": "1d2e891c9d48cbc5657a17ab4ab08b2c1d2ec0060cc3e51694592beb2a6aa825"
   }
  }
 },
 "nbformat": 4,
 "nbformat_minor": 5
}
